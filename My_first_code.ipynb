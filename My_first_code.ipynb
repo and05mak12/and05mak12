{
  "nbformat": 4,
  "nbformat_minor": 0,
  "metadata": {
    "colab": {
      "provenance": [],
      "authorship_tag": "ABX9TyMs+7RNdp2vGbwc9acwY7Ms",
      "include_colab_link": true
    },
    "kernelspec": {
      "name": "python3",
      "display_name": "Python 3"
    },
    "language_info": {
      "name": "python"
    }
  },
  "cells": [
    {
      "cell_type": "markdown",
      "metadata": {
        "id": "view-in-github",
        "colab_type": "text"
      },
      "source": [
        "<a href=\"https://colab.research.google.com/github/and05mak12/and05mak12/blob/main/My_first_code.ipynb\" target=\"_parent\"><img src=\"https://colab.research.google.com/assets/colab-badge.svg\" alt=\"Open In Colab\"/></a>"
      ]
    },
    {
      "cell_type": "code",
      "execution_count": null,
      "metadata": {
        "id": "vbN0uDvhlPyF",
        "colab": {
          "base_uri": "https://localhost:8080/"
        },
        "outputId": "7f56f884-6d5b-4e6c-9932-35dbb354dbc5"
      },
      "outputs": [
        {
          "output_type": "stream",
          "name": "stdout",
          "text": [
            "Кол-во объектов в таблице 1000000\n",
            "Первая строчка (1, 'Andrew', 'Makarov', 3)\n",
            "Последняя строчка (1000000, 'Oleg', 'Petrov', 2)\n"
          ]
        }
      ],
      "source": [
        "import sqlite3\n",
        "import random\n",
        "\n",
        "\n",
        "names = [\"Andrew\", \"Vasya\", \"Petya\", \"Dima\", \"Denis\", \"Oleg\", \"Egor\"]\n",
        "surnames = [\"Makarov\", \"Ivanov\", \"Sokolov\", \"Petrov\"]\n",
        "marks = [2, 3, 4, 5]\n",
        "\n",
        "\n",
        "database_name = \"school.db\"\n",
        "con = sqlite3.connect(database_name)\n",
        "cur = con.cursor()\n",
        "\n",
        "que_create = \"\"\"\n",
        "CREATE TABLE IF NOT EXISTS class (\n",
        "    id INTEGER PRIMARY KEY,\n",
        "    name TEXT,\n",
        "    surname TEXT,\n",
        "    mark INTEGER\n",
        ")\n",
        "\"\"\"\n",
        "\n",
        "que_insert_template = \"\"\"\n",
        "INSERT INTO class (name, surname, mark) VALUES (\n",
        "    '{}', '{}', {}\n",
        ")\n",
        "\"\"\"\n",
        "que_select = \"\"\"\n",
        "SELECT *\n",
        "FROM class\n",
        "\"\"\"\n",
        "\n",
        "cur.execute(que_create)\n",
        "\n",
        "con.commit()\n",
        "\n",
        "for i in range(1_000_000):\n",
        "    random_name = random.choice(names)\n",
        "    random_surname = random.choice(surnames)\n",
        "    random_mark = random.choice(marks)\n",
        "\n",
        "    que_insert = que_insert_template.format(random_name, random_surname, random_mark)\n",
        "\n",
        "    cur.execute(que_insert)\n",
        "\n",
        "con.commit()\n",
        "\n",
        "result = cur.execute(que_select)\n",
        "data = result.fetchall()\n",
        "print(\"Кол-во объектов в таблице\", len(data))\n",
        "print(\"Первая строчка\", data[0])\n",
        "print(\"Последняя строчка\", data[-1])\n",
        "\n",
        "con.close()"
      ]
    },
    {
      "cell_type": "code",
      "source": [
        "def execute_select_query(query):\n",
        "    con = sqlite3.connect(database_name)\n",
        "    cur = con.cursor()\n",
        "\n",
        "    result = cur.execute(query)\n",
        "    data = result.fetchall()\n",
        "   \n",
        "    con.close()\n",
        "\n",
        "    return data\n",
        "\n",
        "query = \"\"\"\n",
        "SELECT *\n",
        "FROM class\n",
        "\"\"\"\n",
        "data = execute_select_query(query)\n",
        "print(data[0])"
      ],
      "metadata": {
        "colab": {
          "base_uri": "https://localhost:8080/"
        },
        "id": "NImnd8Xa6hVe",
        "outputId": "80443a17-a6cc-4e78-9825-a71fd296a6aa"
      },
      "execution_count": null,
      "outputs": [
        {
          "output_type": "stream",
          "name": "stdout",
          "text": [
            "(1, 'Andrew', 'Makarov', 3)\n"
          ]
        }
      ]
    },
    {
      "cell_type": "code",
      "source": [
        "#Задание 1\n",
        "query = \"\"\"\n",
        "SELECT id, name, mark\n",
        "FROM class\n",
        "WHERE mark = 5\n",
        "LIMIT 5\n",
        "\"\"\"\n",
        "data = execute_select_query(query)\n",
        "print(data)"
      ],
      "metadata": {
        "colab": {
          "base_uri": "https://localhost:8080/"
        },
        "id": "XuhvXOFB8vN-",
        "outputId": "64aba99b-fb32-4fd8-ccd6-2438d0bfb690"
      },
      "execution_count": null,
      "outputs": [
        {
          "output_type": "stream",
          "name": "stdout",
          "text": [
            "[(7, 'Egor', 5), (11, 'Dima', 5), (17, 'Petya', 5), (22, 'Andrew', 5), (24, 'Vasya', 5)]\n"
          ]
        }
      ]
    },
    {
      "cell_type": "code",
      "source": [
        "#Задание 2\n",
        "query = \"\"\"\n",
        "SELECT id, surname, mark\n",
        "FROM class\n",
        "WHERE mark = 3\n",
        "LIMIT 5\n",
        "\"\"\"\n",
        "data = execute_select_query(query)\n",
        "print(data)"
      ],
      "metadata": {
        "colab": {
          "base_uri": "https://localhost:8080/"
        },
        "id": "JBFQOehX9cq8",
        "outputId": "c422865c-f894-4f58-9b6b-7f29bf2088b9"
      },
      "execution_count": null,
      "outputs": [
        {
          "output_type": "stream",
          "name": "stdout",
          "text": [
            "[(1, 'Makarov', 3), (15, 'Sokolov', 3), (19, 'Petrov', 3), (33, 'Sokolov', 3), (43, 'Sokolov', 3)]\n"
          ]
        }
      ]
    },
    {
      "cell_type": "code",
      "source": [
        "#Задание 3\n",
        "query = \"\"\"\n",
        "SELECT DISTINCT name\n",
        "FROM class\n",
        "\"\"\"\n",
        "data = execute_select_query(query)\n",
        "print(data)"
      ],
      "metadata": {
        "colab": {
          "base_uri": "https://localhost:8080/"
        },
        "id": "WauFVJ5z915P",
        "outputId": "18b7726a-00d6-4631-d271-13f5a7cf2ff8"
      },
      "execution_count": null,
      "outputs": [
        {
          "output_type": "stream",
          "name": "stdout",
          "text": [
            "[('Andrew',), ('Egor',), ('Denis',), ('Oleg',), ('Vasya',), ('Petya',), ('Dima',)]\n"
          ]
        }
      ]
    },
    {
      "cell_type": "code",
      "source": [
        "#Задание 4\n",
        "query = \"\"\"\n",
        "SELECT DISTINCT mark\n",
        "FROM class\n",
        "\"\"\"\n",
        "data = execute_select_query(query)\n",
        "print(data)"
      ],
      "metadata": {
        "colab": {
          "base_uri": "https://localhost:8080/"
        },
        "id": "CtLKf6Vb-01i",
        "outputId": "efa2155c-7d85-41f7-ff92-25aec92fd0c8"
      },
      "execution_count": null,
      "outputs": [
        {
          "output_type": "stream",
          "name": "stdout",
          "text": [
            "[(3,), (4,), (2,), (5,)]\n"
          ]
        }
      ]
    }
  ]
}